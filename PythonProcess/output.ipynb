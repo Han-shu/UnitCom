{
 "cells": [
  {
   "cell_type": "code",
   "execution_count": 2,
   "metadata": {},
   "outputs": [],
   "source": [
    "import pandas as pd\n",
    "import numpy as np\n",
    "import matplotlib.pyplot as plt\n",
    "from datetime import datetime\n",
    "import os\n",
    "import json"
   ]
  },
  {
   "cell_type": "code",
   "execution_count": 8,
   "metadata": {},
   "outputs": [],
   "source": [
    "def get_gencommitment(res_dir, rundate, policy):\n",
    "    file = os.path.join(res_dir, rundate, f'{policy}/{policy}_{rundate}/UC_2019-01-01.json')\n",
    "    gen_commit = {}\n",
    "    with open(file, 'r') as f:\n",
    "        data = json.load(f)\n",
    "        commitment = data['Commitment status']\n",
    "        startup = data['Start up']\n",
    "        shutdown = data['Shut down']\n",
    "    for key in commitment.keys():\n",
    "        gen_commit[key] = sum(commitment[key])\n",
    "    return gen_commit.values()\n",
    "\n",
    "def get_nocommitment(res_dir, rundate, policy):\n",
    "    file = os.path.join(res_dir, rundate, f'{policy}/{policy}_{rundate}/UC_2019-01-01.json')\n",
    "    nocommitment = []\n",
    "    with open(file, 'r') as f:\n",
    "        data = json.load(f)\n",
    "        commitment = data['Commitment status']\n",
    "    for key in commitment.keys():\n",
    "        if sum(commitment[key]) == 0:\n",
    "            nocommitment.append(key)\n",
    "    return nocommitment\n",
    "\n",
    "def get_nostartshut(res_dir, rundate, policy):\n",
    "    file = os.path.join(res_dir, rundate, f'{policy}/{policy}_{rundate}/UC_2019-01-01.json')\n",
    "    nostartup = []\n",
    "    noshutdown = []\n",
    "    with open(file, 'r') as f:\n",
    "        data = json.load(f)\n",
    "        startup = data['Start up']\n",
    "        shutdown = data['Shut down']\n",
    "    for key in startup.keys():\n",
    "        if sum(startup[key]) == 0:\n",
    "            nostartup.append(key)\n",
    "    for key in shutdown.keys():\n",
    "        if sum(shutdown[key]) == 0:\n",
    "            noshutdown.append(key)\n",
    "    return nostartup, noshutdown\n",
    "\n",
    "def get_prices(res_dir, rundate, policy):\n",
    "    file = os.path.join(res_dir, rundate, f'{policy}/{policy}_{rundate}/UC_2019-01-01.json')\n",
    "    with open(file, 'r') as f:\n",
    "        data = json.load(f)\n",
    "        LMP = data['Hourly average LMP']\n",
    "        res_60T = data['Hourly average reserve price 60Total']\n",
    "        res_10S = data['Hourly average reserve price 10Spin']\n",
    "        res_10T = data['Hourly average reserve price 10Total']\n",
    "        res_30T = data['Hourly average reserve price 30Total']\n",
    "    return LMP, res_10S, res_10T, res_30T, res_60T\n",
    "\n",
    "def print_results(rundate, policy):\n",
    "    LMP, res_10S, res_10T, res_30T, res_60T = get_prices(res_dir, rundate, policy)\n",
    "    print('Rundate is ', rundate)\n",
    "    print('Average LMP is ', np.average(LMP))\n",
    "    print('Average 10S reserve price is ', np.average(res_10S))\n",
    "    print('Average 10T reserve price is ', np.average(res_10T))\n",
    "    print('Average 30T reserve price is ', np.average(res_30T))\n",
    "    print('Average 60T reserve price is ', np.average(res_60T))\n",
    "    nocommitment = get_nocommitment(res_dir, rundate, policy)\n",
    "    print(\"Numer of generators with no commitment: \", len(nocommitment), '\\n')"
   ]
  },
  {
   "cell_type": "code",
   "execution_count": 14,
   "metadata": {},
   "outputs": [],
   "source": [
    "rundate = datetime(2024,11,15).strftime(\"%Y-%m-%d\")\n",
    "res_dir = \"/Users/hanshu/Desktop/Price_formation/Result\"\n",
    "policy = 'BF'\n",
    "gen_commit = get_gencommitment(res_dir, rundate, policy)\n",
    "nocommitment = get_nocommitment(res_dir, rundate, policy)"
   ]
  },
  {
   "cell_type": "code",
   "execution_count": 15,
   "metadata": {},
   "outputs": [
    {
     "data": {
      "text/plain": [
       "82"
      ]
     },
     "execution_count": 15,
     "metadata": {},
     "output_type": "execute_result"
    }
   ],
   "source": [
    "len(nocommitment)"
   ]
  },
  {
   "cell_type": "code",
   "execution_count": 7,
   "metadata": {},
   "outputs": [
    {
     "name": "stdout",
     "output_type": "stream",
     "text": [
      "Policy is  MF\n",
      "Rundate is  2024-11-11\n",
      "Average LMP is  1137.7408749121541\n",
      "Average 10S reserve price is  137.16126595754466\n",
      "Average 10T reserve price is  98.95177035281081\n",
      "Average 30T reserve price is  41.66659166023025\n",
      "Average 60T reserve price is  0.0\n",
      "Numer of generators with no commitment:  147 \n",
      "\n",
      "Rundate is  2024-11-13\n",
      "Average LMP is  1452.470015146081\n",
      "Average 10S reserve price is  176.32521572634658\n",
      "Average 10T reserve price is  135.90509442276783\n",
      "Average 30T reserve price is  61.09469348928483\n",
      "Average 60T reserve price is  0.0\n",
      "Numer of generators with no commitment:  88 \n",
      "\n",
      "Rundate is  2024-11-14\n",
      "Average LMP is  1488.531935239876\n",
      "Average 10S reserve price is  151.53579074892247\n",
      "Average 10T reserve price is  119.11468588210856\n",
      "Average 30T reserve price is  55.773425084960785\n",
      "Average 60T reserve price is  0.0\n",
      "Numer of generators with no commitment:  97 \n",
      "\n"
     ]
    }
   ],
   "source": [
    "res_dir = \"/Users/hanshu/Desktop/Price_formation/Result\"\n",
    "policy = 'MF'\n",
    "print('Policy is ', policy)\n",
    "print_results(datetime(2024,11,11).strftime(\"%Y-%m-%d\"), policy)\n",
    "print_results(datetime(2024,11,13).strftime(\"%Y-%m-%d\"), policy)\n",
    "print_results(datetime(2024,11,14).strftime(\"%Y-%m-%d\"), policy)"
   ]
  },
  {
   "cell_type": "code",
   "execution_count": 10,
   "metadata": {},
   "outputs": [
    {
     "name": "stdout",
     "output_type": "stream",
     "text": [
      "{'Barrett 09', 'Arthur Kill ST 2', 'Charles P Keller 10', 'Northport 1', 'Charles P Keller 09', 'Astoria 5', 'East River 1', 'Greenidge 4', 'East River 2', 'Stony Brook   (BTM:NG)', 'Holtsville 08', 'Northport 3', 'Holtsville 07', 'Charles P Keller 14', 'Barrett 12', 'Charles P Keller 11', 'Freeport 1-4'}\n"
     ]
    }
   ],
   "source": [
    "BF_nocommitment = get_nocommitment(res_dir, datetime(2024,11,13).strftime(\"%Y-%m-%d\"), 'BF')\n",
    "MF_nocommitment = get_nocommitment(res_dir, datetime(2024,11,13).strftime(\"%Y-%m-%d\"), 'MF')\n",
    "# in MF but not in BF\n",
    "print(set(MF_nocommitment) - set(BF_nocommitment))"
   ]
  },
  {
   "cell_type": "code",
   "execution_count": null,
   "metadata": {},
   "outputs": [],
   "source": [
    "policy = 'BF'\n",
    "rundate = datetime(2024,11,13).strftime(\"%Y-%m-%d\")\n",
    "file = os.path.join(res_dir, rundate, f'{policy}/{policy}_{rundate}/UC_2019-01-01.json')\n",
    "with open(file, 'r') as f:\n",
    "    data = json.load(f)\n",
    "print(data.keys())"
   ]
  }
 ],
 "metadata": {
  "kernelspec": {
   "display_name": "Python 3",
   "language": "python",
   "name": "python3"
  },
  "language_info": {
   "codemirror_mode": {
    "name": "ipython",
    "version": 3
   },
   "file_extension": ".py",
   "mimetype": "text/x-python",
   "name": "python",
   "nbconvert_exporter": "python",
   "pygments_lexer": "ipython3",
   "version": "3.8.9"
  }
 },
 "nbformat": 4,
 "nbformat_minor": 2
}
