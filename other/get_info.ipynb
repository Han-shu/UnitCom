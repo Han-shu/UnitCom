{
 "cells": [
  {
   "cell_type": "code",
   "execution_count": 10,
   "metadata": {},
   "outputs": [],
   "source": [
    "using PowerSystems, Dates"
   ]
  },
  {
   "cell_type": "code",
   "execution_count": null,
   "metadata": {},
   "outputs": [],
   "source": [
    "path = \"/Users/hanshu/Desktop/Price_formation/Data/Doubleday_data/\"\n",
    "sys = System(path*\"DA_sys_31_scenarios.json\")"
   ]
  },
  {
   "cell_type": "code",
   "execution_count": 3,
   "metadata": {},
   "outputs": [
    {
     "data": {
      "text/html": [
       "<table>\n",
       "  <caption style = \"text-align: left;\">System</caption>\n",
       "  <thead>\n",
       "    <tr class = \"header headerLastRow\">\n",
       "      <th style = \"text-align: left;\">Property</th>\n",
       "      <th style = \"text-align: left;\">Value</th>\n",
       "    </tr>\n",
       "  </thead>\n",
       "  <tbody>\n",
       "    <tr>\n",
       "      <td style = \"text-align: left;\">Name</td>\n",
       "      <td style = \"text-align: left;\"></td>\n",
       "    </tr>\n",
       "    <tr>\n",
       "      <td style = \"text-align: left;\">Description</td>\n",
       "      <td style = \"text-align: left;\"></td>\n",
       "    </tr>\n",
       "    <tr>\n",
       "      <td style = \"text-align: left;\">System Units Base</td>\n",
       "      <td style = \"text-align: left;\">SYSTEM_BASE</td>\n",
       "    </tr>\n",
       "    <tr>\n",
       "      <td style = \"text-align: left;\">Base Power</td>\n",
       "      <td style = \"text-align: left;\">100.0</td>\n",
       "    </tr>\n",
       "    <tr>\n",
       "      <td style = \"text-align: left;\">Base Frequency</td>\n",
       "      <td style = \"text-align: left;\">60.0</td>\n",
       "    </tr>\n",
       "    <tr>\n",
       "      <td style = \"text-align: left;\">Num Components</td>\n",
       "      <td style = \"text-align: left;\">10202</td>\n",
       "    </tr>\n",
       "  </tbody>\n",
       "</table>\n",
       "\n",
       "<table>\n",
       "  <caption style = \"text-align: left;\">Static Components</caption>\n",
       "  <thead>\n",
       "    <tr class = \"header headerLastRow\">\n",
       "      <th style = \"text-align: left;\">Type</th>\n",
       "      <th style = \"text-align: left;\">Count</th>\n",
       "      <th style = \"text-align: left;\">Has Static Time Series</th>\n",
       "      <th style = \"text-align: left;\">Has Forecasts</th>\n",
       "    </tr>\n",
       "  </thead>\n",
       "  <tbody>\n",
       "    <tr>\n",
       "      <td style = \"text-align: left;\">ACBus</td>\n",
       "      <td style = \"text-align: left;\">2103</td>\n",
       "      <td style = \"text-align: left;\">false</td>\n",
       "      <td style = \"text-align: left;\">false</td>\n",
       "    </tr>\n",
       "    <tr>\n",
       "      <td style = \"text-align: left;\">Arc</td>\n",
       "      <td style = \"text-align: left;\">2791</td>\n",
       "      <td style = \"text-align: left;\">false</td>\n",
       "      <td style = \"text-align: left;\">false</td>\n",
       "    </tr>\n",
       "    <tr>\n",
       "      <td style = \"text-align: left;\">Area</td>\n",
       "      <td style = \"text-align: left;\">8</td>\n",
       "      <td style = \"text-align: left;\">false</td>\n",
       "      <td style = \"text-align: left;\">true</td>\n",
       "    </tr>\n",
       "    <tr>\n",
       "      <td style = \"text-align: left;\">FixedAdmittance</td>\n",
       "      <td style = \"text-align: left;\">146</td>\n",
       "      <td style = \"text-align: left;\">false</td>\n",
       "      <td style = \"text-align: left;\">false</td>\n",
       "    </tr>\n",
       "    <tr>\n",
       "      <td style = \"text-align: left;\">GenericBattery</td>\n",
       "      <td style = \"text-align: left;\">62</td>\n",
       "      <td style = \"text-align: left;\">false</td>\n",
       "      <td style = \"text-align: left;\">false</td>\n",
       "    </tr>\n",
       "    <tr>\n",
       "      <td style = \"text-align: left;\">HydroDispatch</td>\n",
       "      <td style = \"text-align: left;\">33</td>\n",
       "      <td style = \"text-align: left;\">false</td>\n",
       "      <td style = \"text-align: left;\">true</td>\n",
       "    </tr>\n",
       "    <tr>\n",
       "      <td style = \"text-align: left;\">Line</td>\n",
       "      <td style = \"text-align: left;\">2439</td>\n",
       "      <td style = \"text-align: left;\">false</td>\n",
       "      <td style = \"text-align: left;\">false</td>\n",
       "    </tr>\n",
       "    <tr>\n",
       "      <td style = \"text-align: left;\">LoadZone</td>\n",
       "      <td style = \"text-align: left;\">28</td>\n",
       "      <td style = \"text-align: left;\">false</td>\n",
       "      <td style = \"text-align: left;\">false</td>\n",
       "    </tr>\n",
       "    <tr>\n",
       "      <td style = \"text-align: left;\">PowerLoad</td>\n",
       "      <td style = \"text-align: left;\">1125</td>\n",
       "      <td style = \"text-align: left;\">false</td>\n",
       "      <td style = \"text-align: left;\">true</td>\n",
       "    </tr>\n",
       "    <tr>\n",
       "      <td style = \"text-align: left;\">RenewableDispatch</td>\n",
       "      <td style = \"text-align: left;\">219</td>\n",
       "      <td style = \"text-align: left;\">false</td>\n",
       "      <td style = \"text-align: left;\">true</td>\n",
       "    </tr>\n",
       "    <tr>\n",
       "      <td style = \"text-align: left;\">TapTransformer</td>\n",
       "      <td style = \"text-align: left;\">30</td>\n",
       "      <td style = \"text-align: left;\">false</td>\n",
       "      <td style = \"text-align: left;\">false</td>\n",
       "    </tr>\n",
       "    <tr>\n",
       "      <td style = \"text-align: left;\">ThermalMultiStart</td>\n",
       "      <td style = \"text-align: left;\">353</td>\n",
       "      <td style = \"text-align: left;\">false</td>\n",
       "      <td style = \"text-align: left;\">false</td>\n",
       "    </tr>\n",
       "    <tr>\n",
       "      <td style = \"text-align: left;\">Transformer2W</td>\n",
       "      <td style = \"text-align: left;\">861</td>\n",
       "      <td style = \"text-align: left;\">false</td>\n",
       "      <td style = \"text-align: left;\">false</td>\n",
       "    </tr>\n",
       "    <tr>\n",
       "      <td style = \"text-align: left;\">VariableReserve</td>\n",
       "      <td style = \"text-align: left;\">2</td>\n",
       "      <td style = \"text-align: left;\">false</td>\n",
       "      <td style = \"text-align: left;\">true</td>\n",
       "    </tr>\n",
       "    <tr>\n",
       "      <td style = \"text-align: left;\">VariableReserve</td>\n",
       "      <td style = \"text-align: left;\">1</td>\n",
       "      <td style = \"text-align: left;\">false</td>\n",
       "      <td style = \"text-align: left;\">true</td>\n",
       "    </tr>\n",
       "    <tr>\n",
       "      <td style = \"text-align: left;\">VariableReserveNonSpinning</td>\n",
       "      <td style = \"text-align: left;\">1</td>\n",
       "      <td style = \"text-align: left;\">false</td>\n",
       "      <td style = \"text-align: left;\">true</td>\n",
       "    </tr>\n",
       "  </tbody>\n",
       "</table>\n",
       "\n",
       "<table>\n",
       "  <caption style = \"text-align: left;\">Time Series Summary</caption>\n",
       "  <thead>\n",
       "    <tr class = \"header headerLastRow\">\n",
       "      <th style = \"text-align: left;\">Property</th>\n",
       "      <th style = \"text-align: left;\">Value</th>\n",
       "    </tr>\n",
       "  </thead>\n",
       "  <tbody>\n",
       "    <tr>\n",
       "      <td style = \"text-align: left;\">Components with time series data</td>\n",
       "      <td style = \"text-align: left;\">1388</td>\n",
       "    </tr>\n",
       "    <tr>\n",
       "      <td style = \"text-align: left;\">Total StaticTimeSeries</td>\n",
       "      <td style = \"text-align: left;\">0</td>\n",
       "    </tr>\n",
       "    <tr>\n",
       "      <td style = \"text-align: left;\">Total Forecasts</td>\n",
       "      <td style = \"text-align: left;\">1389</td>\n",
       "    </tr>\n",
       "    <tr>\n",
       "      <td style = \"text-align: left;\">Resolution</td>\n",
       "      <td style = \"text-align: left;\">60 minutes</td>\n",
       "    </tr>\n",
       "    <tr>\n",
       "      <td style = \"text-align: left;\">First initial time</td>\n",
       "      <td style = \"text-align: left;\">2018-01-01T00:00:00</td>\n",
       "    </tr>\n",
       "    <tr>\n",
       "      <td style = \"text-align: left;\">Last initial time</td>\n",
       "      <td style = \"text-align: left;\">2018-12-31T00:00:00</td>\n",
       "    </tr>\n",
       "    <tr>\n",
       "      <td style = \"text-align: left;\">Horizon</td>\n",
       "      <td style = \"text-align: left;\">36</td>\n",
       "    </tr>\n",
       "    <tr>\n",
       "      <td style = \"text-align: left;\">Interval</td>\n",
       "      <td style = \"text-align: left;\">1440 minutes</td>\n",
       "    </tr>\n",
       "    <tr>\n",
       "      <td style = \"text-align: left;\">Forecast window count</td>\n",
       "      <td style = \"text-align: left;\">365</td>\n",
       "    </tr>\n",
       "  </tbody>\n",
       "</table>\n"
      ],
      "text/plain": [
       "\u001b[1mSystem\u001b[0m\n",
       "┌───────────────────┬─────────────┐\n",
       "│\u001b[1m Property          \u001b[0m│\u001b[1m Value       \u001b[0m│\n",
       "├───────────────────┼─────────────┤\n",
       "│ Name              │             │\n",
       "│ Description       │             │\n",
       "│ System Units Base │ SYSTEM_BASE │\n",
       "│ Base Power        │ 100.0       │\n",
       "│ Base Frequency    │ 60.0        │\n",
       "│ Num Components    │ 10202       │\n",
       "└───────────────────┴─────────────┘\n",
       "\n",
       "\u001b[1mStatic Components\u001b[0m\n",
       "┌────────────────────────────┬───────┬────────────────────────┬───────────────┐\n",
       "│\u001b[1m Type                       \u001b[0m│\u001b[1m Count \u001b[0m│\u001b[1m Has Static Time Series \u001b[0m│\u001b[1m Has Forecasts \u001b[0m│\n",
       "├────────────────────────────┼───────┼────────────────────────┼───────────────┤\n",
       "│ ACBus                      │ 2103  │ false                  │ false         │\n",
       "│ Arc                        │ 2791  │ false                  │ false         │\n",
       "│ Area                       │ 8     │ false                  │ true          │\n",
       "│ FixedAdmittance            │ 146   │ false                  │ false         │\n",
       "│ GenericBattery             │ 62    │ false                  │ false         │\n",
       "│ HydroDispatch              │ 33    │ false                  │ true          │\n",
       "│ Line                       │ 2439  │ false                  │ false         │\n",
       "│ LoadZone                   │ 28    │ false                  │ false         │\n",
       "│ PowerLoad                  │ 1125  │ false                  │ true          │\n",
       "│ RenewableDispatch          │ 219   │ false                  │ true          │\n",
       "│ TapTransformer             │ 30    │ false                  │ false         │\n",
       "│ ThermalMultiStart          │ 353   │ false                  │ false         │\n",
       "│ Transformer2W              │ 861   │ false                  │ false         │\n",
       "│ VariableReserve            │ 2     │ false                  │ true          │\n",
       "│ VariableReserve            │ 1     │ false                  │ true          │\n",
       "│ VariableReserveNonSpinning │ 1     │ false                  │ true          │\n",
       "└────────────────────────────┴───────┴────────────────────────┴───────────────┘\n",
       "\n",
       "\u001b[1mTime Series Summary\u001b[0m\n",
       "┌──────────────────────────────────┬─────────────────────┐\n",
       "│\u001b[1m Property                         \u001b[0m│\u001b[1m Value               \u001b[0m│\n",
       "├──────────────────────────────────┼─────────────────────┤\n",
       "│ Components with time series data │ 1388                │\n",
       "│ Total StaticTimeSeries           │ 0                   │\n",
       "│ Total Forecasts                  │ 1389                │\n",
       "│ Resolution                       │ 60 minutes          │\n",
       "│ First initial time               │ 2018-01-01T00:00:00 │\n",
       "│ Last initial time                │ 2018-12-31T00:00:00 │\n",
       "│ Horizon                          │ 36                  │\n",
       "│ Interval                         │ 1440 minutes        │\n",
       "│ Forecast window count            │ 365                 │\n",
       "└──────────────────────────────────┴─────────────────────┘\n"
      ]
     },
     "metadata": {},
     "output_type": "display_data"
    }
   ],
   "source": [
    "sys"
   ]
  },
  {
   "cell_type": "code",
   "execution_count": 28,
   "metadata": {},
   "outputs": [
    {
     "data": {
      "text/plain": [
       "RenewableDispatch Counts: \n",
       "RenewableDispatch: 219\n"
      ]
     },
     "metadata": {},
     "output_type": "display_data"
    }
   ],
   "source": [
    "renewable = get_components(RenewableDispatch,sys)"
   ]
  },
  {
   "cell_type": "code",
   "execution_count": 32,
   "metadata": {},
   "outputs": [
    {
     "data": {
      "text/plain": [
       "219-element Vector{String}:\n",
       " \"OILTON_1\"\n",
       " \"Troop Solar\"\n",
       " \"Angelina Solar\"\n",
       " \"Trevino Solar\"\n",
       " \"MERKEL_2\"\n",
       " \"BIG SPRING_1\"\n",
       " \"Spray 2 Solar\"\n",
       " \"Brightside Solar\"\n",
       " \"Angus Solar\"\n",
       " \"SARITA_3\"\n",
       " ⋮\n",
       " \"Westoria Solar\"\n",
       " \"Oxbow Solar\"\n",
       " \"Holstein 2 Solar\"\n",
       " \"BIG SPRING_4\"\n",
       " \"SARITA_1\"\n",
       " \"ABILENE_1\"\n",
       " \"Tooth Solar\"\n",
       " \"PANHANDLE_4\"\n",
       " \"Lapetus Solar 2\""
      ]
     },
     "metadata": {},
     "output_type": "display_data"
    }
   ],
   "source": [
    "get_name.(renewable)"
   ]
  },
  {
   "cell_type": "code",
   "execution_count": 13,
   "metadata": {},
   "outputs": [
    {
     "data": {
      "text/plain": [
       "HOUSTON_LOAD_69 (PowerLoad):\n",
       "   name: HOUSTON_LOAD_69\n",
       "   available: true\n",
       "   bus: HOUSTON 44 0 (ACBus)\n",
       "   active_power: 0.6687000000000001\n",
       "   reactive_power: 0.1895\n",
       "   base_power: 100.0\n",
       "   max_active_power: 0.7455126545924512\n",
       "   max_reactive_power: 0.21126760587000074\n",
       "   services: 0-element Vector{Service}\n",
       "   dynamic_injector: nothing\n",
       "   ext: Dict{String, Any}()\n",
       "   time_series_container: \n",
       "      max_active_power: Deterministic\n",
       "   InfrastructureSystems.SystemUnitsSettings:\n",
       "      base_value: 100.0\n",
       "      unit_system: UnitSystem.SYSTEM_BASE = 0"
      ]
     },
     "metadata": {},
     "output_type": "display_data"
    }
   ],
   "source": [
    "load = get_component(PowerLoad, sys, \"HOUSTON_LOAD_69\")"
   ]
  },
  {
   "cell_type": "code",
   "execution_count": 14,
   "metadata": {},
   "outputs": [
    {
     "data": {
      "text/plain": [
       "24×1 TimeSeries.TimeArray{Float64, 1, DateTime, Vector{Float64}} 2018-01-01T00:00:00 to 2018-01-01T23:00:00\n",
       "│                     │ A      │\n",
       "├─────────────────────┼────────┤\n",
       "│ 2018-01-01T00:00:00 │ 0.4065 │\n",
       "│ 2018-01-01T01:00:00 │ 0.4029 │\n",
       "│ 2018-01-01T02:00:00 │ 0.4026 │\n",
       "│ 2018-01-01T03:00:00 │ 0.4021 │\n",
       "│ 2018-01-01T04:00:00 │ 0.4044 │\n",
       "│ 2018-01-01T05:00:00 │ 0.4118 │\n",
       "│ 2018-01-01T06:00:00 │ 0.423  │\n",
       "│ 2018-01-01T07:00:00 │ 0.4352 │\n",
       "│ ⋮                   │ ⋮      │\n",
       "│ 2018-01-01T17:00:00 │ 0.4397 │\n",
       "│ 2018-01-01T18:00:00 │ 0.4675 │\n",
       "│ 2018-01-01T19:00:00 │ 0.489  │\n",
       "│ 2018-01-01T20:00:00 │ 0.492  │\n",
       "│ 2018-01-01T21:00:00 │ 0.4925 │\n",
       "│ 2018-01-01T22:00:00 │ 0.4868 │\n",
       "│ 2018-01-01T23:00:00 │ 0.4728 │"
      ]
     },
     "metadata": {},
     "output_type": "display_data"
    }
   ],
   "source": [
    "ta = get_time_series_array(\n",
    "               Deterministic,\n",
    "               load,\n",
    "               \"max_active_power\",\n",
    "               start_time = DateTime(\"2018-01-01T00:00:00\"),\n",
    "               len = 24,\n",
    "           )"
   ]
  },
  {
   "cell_type": "code",
   "execution_count": 33,
   "metadata": {},
   "outputs": [
    {
     "data": {
      "text/plain": [
       "219-element Vector{String}:\n",
       " \"OILTON_1\"\n",
       " \"Troop Solar\"\n",
       " \"Angelina Solar\"\n",
       " \"Trevino Solar\"\n",
       " \"MERKEL_2\"\n",
       " \"BIG SPRING_1\"\n",
       " \"Spray 2 Solar\"\n",
       " \"Brightside Solar\"\n",
       " \"Angus Solar\"\n",
       " \"SARITA_3\"\n",
       " ⋮\n",
       " \"Westoria Solar\"\n",
       " \"Oxbow Solar\"\n",
       " \"Holstein 2 Solar\"\n",
       " \"BIG SPRING_4\"\n",
       " \"SARITA_1\"\n",
       " \"ABILENE_1\"\n",
       " \"Tooth Solar\"\n",
       " \"PANHANDLE_4\"\n",
       " \"Lapetus Solar 2\""
      ]
     },
     "metadata": {},
     "output_type": "display_data"
    }
   ],
   "source": [
    "thermal_gen_names = get_name.(get_components(ThermalGen, sys))\n",
    "renewable_gen_names = get_name.(get_components(RenewableGen, sys))\n",
    "\n",
    "thermal_gen_names2 = get_name.(get_components(ThermalMultiStart, sys))\n",
    "renewable_gen_names2 = get_name.(get_components(RenewableDispatch, sys))"
   ]
  },
  {
   "cell_type": "code",
   "execution_count": 41,
   "metadata": {},
   "outputs": [
    {
     "data": {
      "text/plain": [
       "353-element Vector{String}:\n",
       " \"DEER_PARK_ENERGY_CENTER_CC4\"\n",
       " \"SILAS_RAY_ST2\"\n",
       " \"WA_PARISH_STG_U6\"\n",
       " \"POWER_SYSTEMS_ARCO_COGEN3_CC2\"\n",
       " \"EXTEX_LAPORTE_GEN_STN_CTG2\"\n",
       " \"MAGIC_VALLEY_STATION_CC1\"\n",
       " \"SR_BERTRON_ST1\"\n",
       " \"TEXAS_CITY_POWER_CC9\"\n",
       " \"RIO_NOGALES_POWER_CC4\"\n",
       " \"DOWGEN_UNIT5\"\n",
       " ⋮\n",
       " \"TEXAS_CITY_POWER_CC3\"\n",
       " \"COLORADO_BEND_ENERGY_CENTER_2_CC2\"\n",
       " \"CVC_CHANNELVIEW_GT1\"\n",
       " \"AMOCO_UNIT8\"\n",
       " \"WISE_TRACTEBEL_POWER_CC2\"\n",
       " \"RAY_OLINGER_STG_U2\"\n",
       " \"FORMOSA_GT5\"\n",
       " \"HAYS_ENERGY_FACILITY_GT2\"\n",
       " \"TH_WARTON2_CC2\""
      ]
     },
     "metadata": {},
     "output_type": "display_data"
    }
   ],
   "source": [
    "thermal_gen_names"
   ]
  },
  {
   "cell_type": "code",
   "execution_count": 44,
   "metadata": {},
   "outputs": [
    {
     "data": {
      "text/plain": [
       "1"
      ]
     },
     "metadata": {},
     "output_type": "display_data"
    }
   ],
   "source": [
    "a = 3\n",
    "if Set(thermal_gen_names2) == Set(thermal_gen_names)\n",
    "    a = 1\n",
    "else\n",
    "    a = 0\n",
    "end"
   ]
  },
  {
   "cell_type": "code",
   "execution_count": 46,
   "metadata": {},
   "outputs": [
    {
     "data": {
      "text/plain": [
       "DataType"
      ]
     },
     "metadata": {},
     "output_type": "display_data"
    }
   ],
   "source": [
    "typeof(ThermalGen)"
   ]
  },
  {
   "cell_type": "code",
   "execution_count": 47,
   "metadata": {},
   "outputs": [
    {
     "data": {
      "text/plain": [
       "DataType"
      ]
     },
     "metadata": {},
     "output_type": "display_data"
    }
   ],
   "source": [
    "typeof(ThermalMultiStart)"
   ]
  }
 ],
 "metadata": {
  "kernelspec": {
   "display_name": "Julia 1.9.1",
   "language": "julia",
   "name": "julia-1.9"
  },
  "language_info": {
   "file_extension": ".jl",
   "mimetype": "application/julia",
   "name": "julia",
   "version": "1.9.1"
  }
 },
 "nbformat": 4,
 "nbformat_minor": 2
}
